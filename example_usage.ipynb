{
 "cells": [
  {
   "cell_type": "code",
   "execution_count": null,
   "id": "1cece506-6a37-4414-9fda-6e545f5fa30f",
   "metadata": {},
   "outputs": [],
   "source": [
    "from detect_and_classify import detect, classify, detect_and_classify\n",
    "import os\n",
    "from PIL import Image\n",
    "import json"
   ]
  },
  {
   "cell_type": "code",
   "execution_count": null,
   "id": "32006c3c-f0db-442f-ad73-c01089cb1843",
   "metadata": {},
   "outputs": [],
   "source": [
    "# define the classes\n",
    "# classes = [\"A1\", \"A17-imp\", \"A2\", \"A21\", \"A30\", \"A7\", \"B1\", \"B2\", \"B20-imp\", \"B21\", \"B22\", \"B23\", \"B33-30-50\",\n",
    "#            \"B33-60+\", \"B36\", \"B41\", \"C12\", \"C2\", \"C4\", \"D1-imp\", \"D6-imp\", \"other\"]\n",
    "\n",
    "classes = [\"niebezpieczny zakręt w prawo\", \"dzieci (!)\", \"niebezpieczny zakręt w lewo\", \"tramwaj\",\n",
    "           \"inne niebezpieczeństwo\", \"ustąp pierwszeństwa\", \"zakaz ruchu w obu kierunkach\", \"zakaz wjazdu\", \"stop (!)\",\n",
    "           \"zakaz skręcania w lewo\", \"zakaz skręcania w prawo\", \"zakaz zawracania\", \"ograniczenie prędkości 30 - 50\",\n",
    "           \"ograniczenie prędkości 60+\", \"zakaz zatrzymywania się\", \"zakaz ruchu pieszych\", \"ruch okrężny\",\n",
    "           \"nakaz jazdy w prawo za znakiem\", \"nakaz jazdy w lewo za znakiem\", \"droga z pierwszeństwem (!)\",\n",
    "           \"przejście dla pieszych (!)\", \"inne\"]"
   ]
  },
  {
   "cell_type": "code",
   "execution_count": null,
   "id": "212a2fa3-3f88-4aaa-a4e3-f8aa79e3d817",
   "metadata": {},
   "outputs": [],
   "source": [
    "exts = [\".jpg\", \".jpeg\", \".png\"]"
   ]
  },
  {
   "cell_type": "markdown",
   "id": "3e3559ab-37bd-4bee-8d89-3dc227642d85",
   "metadata": {},
   "source": [
    "# Detect traffic signs"
   ]
  },
  {
   "cell_type": "code",
   "execution_count": null,
   "id": "1f37086a-1c67-4822-aa12-0aae412b0641",
   "metadata": {},
   "outputs": [],
   "source": [
    "full_dir = \"images\"\n",
    "\n",
    "# get the images\n",
    "images_paths = os.listdir(full_dir)\n",
    "images_paths = [os.path.join(full_dir, images_paths[i]) for i in range(len(images_paths)) if os.path.splitext(images_paths[i])[-1].lower() in exts]\n",
    "images = {image_path: Image.open(image_path) for image_path in images_paths}"
   ]
  },
  {
   "cell_type": "code",
   "execution_count": null,
   "id": "1506f796-c669-412b-97eb-3a667d0a36d4",
   "metadata": {},
   "outputs": [],
   "source": [
    "# detect\n",
    "result = detect(images)\n",
    "print(json.dumps(result, indent=2))"
   ]
  },
  {
   "cell_type": "markdown",
   "id": "d769cc69-51d5-45ad-be9f-6066445f76b6",
   "metadata": {},
   "source": [
    "# Classify traffic signs"
   ]
  },
  {
   "cell_type": "code",
   "execution_count": null,
   "id": "3ba46f68-a758-4911-94de-7217f322a4e6",
   "metadata": {},
   "outputs": [],
   "source": [
    "cut_out_dir = \"images_cut_out\"\n",
    "\n",
    "# get the images\n",
    "cut_out_images_paths = os.listdir(cut_out_dir)\n",
    "cut_out_images_paths = [os.path.join(cut_out_dir, cut_out_images_paths[i]) for i in range(len(cut_out_images_paths)) if os.path.splitext(cut_out_images_paths[i])[-1].lower() in exts]\n",
    "cut_out_images = {cut_out_image_path: [Image.open(cut_out_image_path)] for cut_out_image_path in cut_out_images_paths}"
   ]
  },
  {
   "cell_type": "code",
   "execution_count": null,
   "id": "b9a38141-05e8-47df-8665-c0af9941f52f",
   "metadata": {},
   "outputs": [],
   "source": [
    "# classify\n",
    "result = classify(cut_out_images)\n",
    "print(json.dumps(result, indent=2))"
   ]
  },
  {
   "cell_type": "markdown",
   "id": "2581bfed-b258-481f-9756-4c22e4b16227",
   "metadata": {},
   "source": [
    "# Detect and classify"
   ]
  },
  {
   "cell_type": "code",
   "execution_count": null,
   "id": "e4c0cf17-70f2-4bcc-ab97-1a7d6aa86eec",
   "metadata": {},
   "outputs": [],
   "source": [
    "# detect and classify\n",
    "result = detect_and_classify(images)\n",
    "print(json.dumps(result, indent=2))"
   ]
  },
  {
   "cell_type": "code",
   "execution_count": null,
   "id": "67413cd7-ce67-4413-8036-5f260e5b59c6",
   "metadata": {},
   "outputs": [],
   "source": []
  }
 ],
 "metadata": {
  "kernelspec": {
   "display_name": "Python 3 (ipykernel)",
   "language": "python",
   "name": "python3"
  },
  "language_info": {
   "codemirror_mode": {
    "name": "ipython",
    "version": 3
   },
   "file_extension": ".py",
   "mimetype": "text/x-python",
   "name": "python",
   "nbconvert_exporter": "python",
   "pygments_lexer": "ipython3",
   "version": "3.10.8"
  }
 },
 "nbformat": 4,
 "nbformat_minor": 5
}
